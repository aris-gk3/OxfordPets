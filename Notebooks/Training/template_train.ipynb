{
 "cells": [
  {
   "cell_type": "markdown",
   "id": "3e9aad45",
   "metadata": {},
   "source": [
    "# Template for Transfer Learning Training"
   ]
  },
  {
   "cell_type": "markdown",
   "id": "d0a41b78",
   "metadata": {},
   "source": [
    "## Import Packages"
   ]
  },
  {
   "cell_type": "code",
   "execution_count": null,
   "id": "0a803f59",
   "metadata": {},
   "outputs": [],
   "source": [
    "# !pip uninstall ml_project_util -y\n",
    "# !pip install git+https://github.com/aris-gk3/ml_project_util.git\n",
    "#  or\n",
    "%pip install git+https://github.com/aris-gk3/ml_project_util.git"
   ]
  },
  {
   "cell_type": "code",
   "execution_count": null,
   "id": "2139d1f1",
   "metadata": {},
   "outputs": [],
   "source": [
    "import tensorflow as tf\n",
    "import os\n",
    "from tensorflow.keras import layers, models # type: ignore\n",
    "from tensorflow.keras.applications import VGG16 # type: ignore\n",
    "# Local Packages\n",
    "from ml_project_util.path import path_definition\n",
    "from ml_project_util.train import train, freeze_layers, unfreeze_head, unfreeze_block\n",
    "from ml_project_util.quantization_util import quant_model\n",
    "from ml_project_util.model_evaluation import model_evaluation_precise"
   ]
  },
  {
   "cell_type": "markdown",
   "id": "a76b9706",
   "metadata": {},
   "source": [
    "## Define the Model"
   ]
  },
  {
   "cell_type": "code",
   "execution_count": null,
   "id": "a3968576",
   "metadata": {},
   "outputs": [],
   "source": [
    "vgg_base = VGG16(weights='imagenet', include_top=False, input_shape=(224, 224, 3))\n",
    "model = models.Sequential()\n",
    "for layer in vgg_base.layers:\n",
    "    model.add(layer)\n",
    "# Adding the new head\n",
    "model.add(layers.GlobalAveragePooling2D())\n",
    "model.add(layers.Dense(256, activation='relu'))\n",
    "model.add(layers.Dropout(0.5))\n",
    "model.add(layers.Dense(37, activation='softmax'))"
   ]
  },
  {
   "cell_type": "markdown",
   "id": "3edb0249",
   "metadata": {},
   "source": [
    "## Add/Get env paths"
   ]
  },
  {
   "cell_type": "code",
   "execution_count": null,
   "id": "4b6e503c",
   "metadata": {},
   "outputs": [],
   "source": [
    "# dict = path_definition(ds_rel_path='catsdogsconv/CatsDogs')\n",
    "dict = path_definition()\n",
    "BASE_PATH = dict['BASE_PATH']\n",
    "PATH_DATASET = dict['PATH_DATASET']\n",
    "PATH_TEST = dict['PATH_TEST']\n",
    "PATH_RAWDATA = dict['PATH_RAWDATA']\n",
    "PATH_JOINEDDATA = dict['PATH_JOINEDDATA']\n",
    "PATH_SAVEDMODELS = dict['PATH_SAVEDMODELS']"
   ]
  },
  {
   "cell_type": "markdown",
   "id": "33fb1e5a",
   "metadata": {},
   "source": [
    "## Train the Model"
   ]
  },
  {
   "cell_type": "code",
   "execution_count": null,
   "id": "f6aa503e",
   "metadata": {},
   "outputs": [],
   "source": [
    "model_name = 'OP1_P1'\n",
    "epochs = 1\n",
    "lr = 1e-3\n",
    "optimizer = 'Adam'\n",
    "\n",
    "# If I want to change data augmentation strateguy\n",
    "# data_augmentation = tf.keras.Sequential([\n",
    "#     layers.RandomFlip('horizontal'),\n",
    "#     layers.RandomRotation(0.1),             # 10% random rotation\n",
    "#     layers.RandomZoom(0.1),                 # 10% zoom\n",
    "#     layers.RandomTranslation(0.1, 0.1),     # Random height and width shift\n",
    "#     layers.RandomBrightness(0.2)\n",
    "# ])\n",
    "\n",
    "# data_augmentation = tf.keras.Sequential([\n",
    "#     tf.keras.layers.RandomFlip(\"horizontal_and_vertical\"),\n",
    "#     tf.keras.layers.RandomRotation(0.25),  # Larger rotation range is useful\n",
    "#     tf.keras.layers.RandomZoom(0.2),\n",
    "#     tf.keras.layers.RandomTranslation(0.2, 0.2),\n",
    "#     tf.keras.layers.RandomContrast(0.2),  # Satellite images vary in lighting/contrast\n",
    "# ])\n",
    "\n",
    "data_augmentation = tf.keras.Sequential([\n",
    "    layers.RandomFlip(\"horizontal\"),\n",
    "    layers.RandomRotation(0.1),\n",
    "    layers.RandomZoom(0.1),\n",
    "    layers.RandomContrast(0.1)\n",
    "], name=\"data_augmentation\")\n",
    "\n",
    "freeze_layers(model, verbose=1)\n",
    "unfreeze_head(model, verbose=1)\n",
    "train(model, epochs, lr, optimizer, model_name, is_binary=0, plot=True, augmentation_pipeline=data_augmentation, early_stopping=False)"
   ]
  },
  {
   "cell_type": "code",
   "execution_count": null,
   "id": "b3a011a2",
   "metadata": {},
   "outputs": [],
   "source": [
    "model_evaluation_precise(model)"
   ]
  },
  {
   "cell_type": "code",
   "execution_count": null,
   "id": "7fd5fc87",
   "metadata": {},
   "outputs": [],
   "source": [
    "model.loss"
   ]
  },
  {
   "cell_type": "code",
   "execution_count": null,
   "id": "71c15f87",
   "metadata": {},
   "outputs": [],
   "source": [
    "model_evaluation_precise(model)"
   ]
  },
  {
   "cell_type": "code",
   "execution_count": null,
   "id": "ca66110d",
   "metadata": {},
   "outputs": [],
   "source": [
    "epochs = 15\n",
    "lr = 1e-3\n",
    "optimizer = 'Adam'\n",
    "name = 'UC1_P1'\n",
    "\n",
    "# If I want to change data augmentation strateguy\n",
    "# data_augmentation = tf.keras.Sequential([\n",
    "#     layers.RandomFlip('horizontal'),\n",
    "#     layers.RandomRotation(0.1),             # 10% random rotation\n",
    "#     layers.RandomZoom(0.1),                 # 10% zoom\n",
    "#     layers.RandomTranslation(0.1, 0.1),     # Random height and width shift\n",
    "#     layers.RandomBrightness(0.2)\n",
    "# ])\n",
    "\n",
    "data_augmentation = tf.keras.Sequential([\n",
    "    tf.keras.layers.RandomFlip(\"horizontal_and_vertical\"),\n",
    "    tf.keras.layers.RandomRotation(0.25),  # Larger rotation range is useful\n",
    "    tf.keras.layers.RandomZoom(0.2),\n",
    "    tf.keras.layers.RandomTranslation(0.2, 0.2),\n",
    "    tf.keras.layers.RandomContrast(0.2),  # Satellite images vary in lighting/contrast\n",
    "])\n",
    "\n",
    "freeze_layers(model, verbose=1)\n",
    "unfreeze_head(model, verbose=1)\n",
    "train(model, epochs, lr, optimizer, name, is_binary=1, plot=True, augmentation_pipeline=data_augmentation)"
   ]
  },
  {
   "cell_type": "code",
   "execution_count": null,
   "id": "dae9b81b",
   "metadata": {},
   "outputs": [],
   "source": [
    "epochs = 20\n",
    "lr = 1e-4\n",
    "optimizer = 'Adam'\n",
    "name = 'UC1_P2'\n",
    "\n",
    "freeze_layers(model, verbose=1)\n",
    "unfreeze_head(model, verbose=1)\n",
    "train(model, epochs, lr, optimizer, name, is_binary=1, plot=True, augmentation_pipeline=data_augmentation)"
   ]
  },
  {
   "cell_type": "code",
   "execution_count": null,
   "id": "aeb48af5",
   "metadata": {},
   "outputs": [],
   "source": [
    "epochs = 20\n",
    "lr = 1e-5\n",
    "optimizer = 'Adam'\n",
    "name = 'UC1_P3'\n",
    "\n",
    "freeze_layers(model, verbose=1)\n",
    "unfreeze_head(model, verbose=1)\n",
    "train(model, epochs, lr, optimizer, name, is_binary=1, plot=True, augmentation_pipeline=data_augmentation)"
   ]
  }
 ],
 "metadata": {
  "kernelspec": {
   "display_name": "EnvPy3_12",
   "language": "python",
   "name": "python3"
  },
  "language_info": {
   "codemirror_mode": {
    "name": "ipython",
    "version": 3
   },
   "file_extension": ".py",
   "mimetype": "text/x-python",
   "name": "python",
   "nbconvert_exporter": "python",
   "pygments_lexer": "ipython3",
   "version": "3.12.9"
  }
 },
 "nbformat": 4,
 "nbformat_minor": 5
}
